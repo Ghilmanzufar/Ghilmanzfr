{
  "cells": [
    {
      "cell_type": "markdown",
      "metadata": {
        "id": "view-in-github",
        "colab_type": "text"
      },
      "source": [
        "<a href=\"https://colab.research.google.com/github/Ghilmanzufar/Tugas_Pengatar_Sains_Data_Kelompok-8/blob/main/Pengenalan%20Array%20dengan%20Numpy.ipynb\" target=\"_parent\"><img src=\"https://colab.research.google.com/assets/colab-badge.svg\" alt=\"Open In Colab\"/></a>"
      ]
    },
    {
      "cell_type": "markdown",
      "metadata": {
        "id": "-IycjpxksDw7"
      },
      "source": [
        "# TUGAS\n",
        "## Pengenalan Array dengan Numpy\n",
        "\n",
        "Kelompok :\n",
        "\n",
        "1.GHILMAN ZUFAR\n",
        "\n",
        "2.MUHAMMAD DZULFIKAR\n",
        "\n",
        "3.DAVIN APRILLIO SIANTURI\n",
        "\n",
        "4.MUHAMMAD IMAM FIRDAUS\n",
        "\n",
        "5.REZKY AGYA KINANTI\n",
        "\n",
        "\n"
      ]
    },
    {
      "cell_type": "code",
      "execution_count": null,
      "metadata": {
        "scrolled": true,
        "id": "teOSNgkisDxD",
        "colab": {
          "base_uri": "https://localhost:8080/"
        },
        "outputId": "a7925e3d-f6d1-47aa-8770-50f329b0bd57"
      },
      "outputs": [
        {
          "output_type": "stream",
          "name": "stdout",
          "text": [
            "arr:\n",
            "[[1 2 3]\n",
            " [5 6 7]]\n",
            "\n",
            "Shape arr:\n",
            "(2, 3)\n",
            "\n",
            "Tipe data arr:\n",
            "int64\n"
          ]
        }
      ],
      "source": [
        "import numpy as np\n",
        "\n",
        "# Membuat matriks dengan tipe data integer 64\n",
        "arr = np.array([[1, 2, 3], [5, 6, 7]], dtype=np.int64)\n",
        "\n",
        "# Mencetak matriks\n",
        "print(\"arr:\")\n",
        "print(arr)\n",
        "\n",
        "# Mencetak shape dari matriks\n",
        "print(\"\\nShape arr:\")\n",
        "print(arr.shape)\n",
        "\n",
        "# Mencetak tipe data dari matriks\n",
        "print(\"\\nTipe data arr:\")\n",
        "print(arr.dtype)"
      ]
    },
    {
      "cell_type": "code",
      "source": [
        "import numpy as np\n",
        "\n",
        "# Membuat matriks random dengan shape 2x3 dan tipe data integer 64\n",
        "arr_rdm = np.random.randint(low=-9223372036854775808, high=9223372036854775807,\n",
        "                            size=(2, 3), dtype=np.int64)\n",
        "\n",
        "# Mencetak matriks\n",
        "print(\"arr_rdm:\")\n",
        "print(arr_rdm)\n",
        "\n",
        "# Mencetak shape dari matriks\n",
        "print(\"\\nShape arr_rdm:\")\n",
        "print(arr_rdm.shape)\n",
        "\n",
        "# Mencetak tipe data dari matriks\n",
        "print(\"\\nTipe data arr_rdm:\")\n",
        "print(arr_rdm.dtype)\n"
      ],
      "metadata": {
        "id": "XQu2qotARqrU",
        "colab": {
          "base_uri": "https://localhost:8080/"
        },
        "outputId": "a4b5e97c-ede6-49eb-e8ef-35565ec2af77"
      },
      "execution_count": null,
      "outputs": [
        {
          "output_type": "stream",
          "name": "stdout",
          "text": [
            "arr_rdm:\n",
            "[[ 4620506784015747113  4847855129372195057 -4198557445623807349]\n",
            " [ 5933661799733492947 -5186876322483702349  7781089259501474656]]\n",
            "\n",
            "Shape arr_rdm:\n",
            "(2, 3)\n",
            "\n",
            "Tipe data arr_rdm:\n",
            "int64\n"
          ]
        }
      ]
    },
    {
      "cell_type": "markdown",
      "source": [
        "# Aritmatika Dasar dengan Numpy"
      ],
      "metadata": {
        "id": "ibSu8dw4TCE9"
      }
    },
    {
      "cell_type": "code",
      "source": [
        "import numpy as np\n",
        "\n",
        "# Membuat matriks arr dan arr_rdm\n",
        "arr = np.array([[1, 2, 3], [5, 6, 7]], dtype=np.int64)\n",
        "arr_rdm = np.random.randint(low=-9223372036854775808, high=9223372036854775807,\n",
        "                            size=(2, 3), dtype=np.int64)\n",
        "\n",
        "# Operasi penjumlahan arr dan arr_rdm\n",
        "sum_arr = np.add(arr, arr_rdm)\n",
        "print(\"Hasil penjumlahan arr dan arr_rdm:\")\n",
        "print(sum_arr)\n",
        "\n",
        "# Operasi pengurangan arr dan arr_rdm\n",
        "sub_arr = np.subtract(arr, arr_rdm)\n",
        "print(\"\\nHasil pengurangan arr dan arr_rdm:\")\n",
        "print(sub_arr)\n",
        "\n",
        "# Operasi perpangkatan dua arr_rdm\n",
        "pow_arr_rdm = np.power(arr_rdm, 2)\n",
        "print(\"\\nHasil perpangkatan dua arr_rdm:\")\n",
        "print(pow_arr_rdm)\n",
        "\n",
        "# Operasi perkalian elemen arr dan arr_rdm\n",
        "mul_arr = np.multiply(arr, arr_rdm)\n",
        "print(\"\\nHasil perkalian elemen arr dan arr_rdm:\")\n",
        "print(mul_arr)"
      ],
      "metadata": {
        "id": "2gFgxZ6BSlr-",
        "colab": {
          "base_uri": "https://localhost:8080/"
        },
        "outputId": "c45fd016-b2c2-4d6b-b68f-19c53345ed87"
      },
      "execution_count": null,
      "outputs": [
        {
          "output_type": "stream",
          "name": "stdout",
          "text": [
            "Hasil penjumlahan arr dan arr_rdm:\n",
            "[[ 2265191323215447996 -8555656214454603792  6186750699353607686]\n",
            " [ 5905091661000371760  2025758465573077196  5201965038655541175]]\n",
            "\n",
            "Hasil pengurangan arr dan arr_rdm:\n",
            "[[-2265191323215447994  8555656214454603796 -6186750699353607680]\n",
            " [-5905091661000371750 -2025758465573077184 -5201965038655541161]]\n",
            "\n",
            "Hasil perpangkatan dua arr_rdm:\n",
            "[[  976123401306522265  -289621772507397820 -1232050134662097911]\n",
            " [-8530834908465005767 -2528921228932048604 -7763686444926363392]]\n",
            "\n",
            "Hasil perkalian elemen arr dan arr_rdm:\n",
            "[[ 2265191323215447995  1335431644800344028   113508024351271433]\n",
            " [-7368029842417244457 -6292193280271088476  -479732876830315056]]\n"
          ]
        }
      ]
    },
    {
      "cell_type": "code",
      "source": [
        "import numpy as np\n",
        "arr = np.array([[1, 2, 3], [5, 6, 7]], dtype=np.int64)\n",
        "# Nilai rata-rata arr\n",
        "mean_arr = np.mean(arr)\n",
        "print(\"\\nNilai rata-rata matriks arr:\")\n",
        "print(mean_arr)\n",
        "\n",
        "\n",
        "# Nilai rata-rata per baris matriks arr\n",
        "mean_row_arr = np.mean(arr, axis=1)\n",
        "print(\"\\nNilai rata-rata per baris matriks arr:\")\n",
        "print(mean_row_arr)\n",
        "\n",
        "# Total nilai seluruh elemen matriks arr\n",
        "sum_total_arr = np.sum(arr)\n",
        "print(\"\\nTotal nilai seluruh elemen matriks arr:\")\n",
        "print(sum_total_arr)\n",
        "\n",
        "# Nilai maksimal per kolom matriks arr\n",
        "max_col_arr = np.max(arr, axis=0)\n",
        "print(\"\\nNilai maksimal per kolom matriks arr:\")\n",
        "print(max_col_arr)"
      ],
      "metadata": {
        "id": "QK1uxmhmT7tj",
        "colab": {
          "base_uri": "https://localhost:8080/"
        },
        "outputId": "30d6e355-58ac-44f0-ee77-51f0bcbec56b"
      },
      "execution_count": null,
      "outputs": [
        {
          "output_type": "stream",
          "name": "stdout",
          "text": [
            "\n",
            "Nilai rata-rata matriks arr:\n",
            "4.0\n",
            "\n",
            "Nilai rata-rata per baris matriks arr:\n",
            "[2. 6.]\n",
            "\n",
            "Total nilai seluruh elemen matriks arr:\n",
            "24\n",
            "\n",
            "Nilai maksimal per kolom matriks arr:\n",
            "[5 6 7]\n"
          ]
        }
      ]
    },
    {
      "cell_type": "markdown",
      "source": [
        "# Fitur pada Numpy"
      ],
      "metadata": {
        "id": "kHgUabu9V2AJ"
      }
    },
    {
      "cell_type": "code",
      "source": [
        "import numpy as np\n",
        "\n",
        "# Membuat array arrg dengan nilai range 1-20\n",
        "arrg = np.arange(1, 21)\n",
        "print(\"Array arrg:\")\n",
        "print(arrg)\n",
        "\n",
        "# Mencetak nilai arrg index 5\n",
        "print(\"\\nNilai arrg index 5:\")\n",
        "print(arrg[5])\n",
        "\n",
        "# Mencetak nilai arrg untuk 3 elemen dari terakhir\n",
        "print(\"\\nNilai arrg untuk 3 elemen dari terakhir:\")\n",
        "print(arrg[-3:])\n",
        "\n",
        "# Mencetak nilai arrg 3 sampai 6\n",
        "print(\"\\nNilai arrg 3 sampai 6:\")\n",
        "print(arrg[3:7])  # Indeks di Python dimulai dari 0 dan slicing tidak termasuk batas akhir"
      ],
      "metadata": {
        "id": "HxVt2zc1UdJD",
        "colab": {
          "base_uri": "https://localhost:8080/"
        },
        "outputId": "72d0a88f-a2c4-456c-f120-bf4642c3a4af"
      },
      "execution_count": null,
      "outputs": [
        {
          "output_type": "stream",
          "name": "stdout",
          "text": [
            "Array arrg:\n",
            "[ 1  2  3  4  5  6  7  8  9 10 11 12 13 14 15 16 17 18 19 20]\n",
            "\n",
            "Nilai arrg index 5:\n",
            "6\n",
            "\n",
            "Nilai arrg untuk 3 elemen dari terakhir:\n",
            "[18 19 20]\n",
            "\n",
            "Nilai arrg 3 sampai 6:\n",
            "[4 5 6 7]\n"
          ]
        }
      ]
    },
    {
      "cell_type": "code",
      "source": [
        "import numpy as np\n",
        "\n",
        "# Membuat matriks arr\n",
        "arr = np.array([[1, 2, 3], [5, 6, 7]], dtype=np.int64)\n",
        "\n",
        "# Mencetak matriks arr\n",
        "print(\"Matriks arr:\")\n",
        "print(arr)\n",
        "\n",
        "# Mencetak slice matriks arr dengan output [[2, 3], [6, 7]]\n",
        "print(\"\\nSlice matriks arr [[2, 3], [6, 7]]:\")\n",
        "print(arr[:, 1:])\n",
        "\n",
        "# Mencetak slice matriks arr dengan output [[3], [7]]\n",
        "print(\"\\nSlice matriks arr [[3], [7]]:\")\n",
        "print(arr[:, 2:])"
      ],
      "metadata": {
        "id": "2mIKvlUyVR00",
        "colab": {
          "base_uri": "https://localhost:8080/"
        },
        "outputId": "8a34a205-3202-494c-ee3a-b7f889aa8606"
      },
      "execution_count": null,
      "outputs": [
        {
          "output_type": "stream",
          "name": "stdout",
          "text": [
            "Matriks arr:\n",
            "[[1 2 3]\n",
            " [5 6 7]]\n",
            "\n",
            "Slice matriks arr [[2, 3], [6, 7]]:\n",
            "[[2 3]\n",
            " [6 7]]\n",
            "\n",
            "Slice matriks arr [[3], [7]]:\n",
            "[[3]\n",
            " [7]]\n"
          ]
        }
      ]
    },
    {
      "cell_type": "code",
      "source": [
        "import numpy as np\n",
        "\n",
        "# Membuat matriks mtx_rdm ukuran 3x4 dengan tipe data integer, isi elemennya random\n",
        "mtx_rdm = np.random.randint(low=-9223372036854775808, high=9223372036854775807,\n",
        "                            size=(3, 4), dtype=np.int64)\n",
        "\n",
        "# Mencetak shape mtx_rdm\n",
        "print(\"Shape mtx_rdm:\")\n",
        "print(mtx_rdm.shape)\n",
        "\n",
        "# Mengubah shape mtx_rdm menjadi satu dimensi\n",
        "mtx_rdm = mtx_rdm.reshape(-1)\n",
        "print(\"\\nShape mtx_rdm setelah diubah menjadi satu dimensi:\")\n",
        "print(mtx_rdm.shape)\n",
        "\n",
        "# Mengubah shape mtx_rdm menjadi 6x2\n",
        "mtx_rdm = mtx_rdm.reshape(6, 2)\n",
        "print(\"\\nShape mtx_rdm setelah diubah menjadi 6x2:\")\n",
        "print(mtx_rdm.shape)\n"
      ],
      "metadata": {
        "id": "tlJfHEnRV57y",
        "colab": {
          "base_uri": "https://localhost:8080/"
        },
        "outputId": "0884ba69-3e79-447e-cacc-bd0b88fe03de"
      },
      "execution_count": null,
      "outputs": [
        {
          "output_type": "stream",
          "name": "stdout",
          "text": [
            "Shape mtx_rdm:\n",
            "(3, 4)\n",
            "\n",
            "Shape mtx_rdm setelah diubah menjadi satu dimensi:\n",
            "(12,)\n",
            "\n",
            "Shape mtx_rdm setelah diubah menjadi 6x2:\n",
            "(6, 2)\n"
          ]
        }
      ]
    }
  ],
  "metadata": {
    "anaconda-cloud": {},
    "kernelspec": {
      "display_name": "Python [Root]",
      "language": "python",
      "name": "Python [Root]"
    },
    "language_info": {
      "codemirror_mode": {
        "name": "ipython",
        "version": 3
      },
      "file_extension": ".py",
      "mimetype": "text/x-python",
      "name": "python",
      "nbconvert_exporter": "python",
      "pygments_lexer": "ipython3",
      "version": "3.5.2"
    },
    "colab": {
      "provenance": [],
      "include_colab_link": true
    }
  },
  "nbformat": 4,
  "nbformat_minor": 0
}