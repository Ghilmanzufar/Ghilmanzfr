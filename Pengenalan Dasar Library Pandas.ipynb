{
  "cells": [
    {
      "cell_type": "markdown",
      "metadata": {
        "id": "view-in-github",
        "colab_type": "text"
      },
      "source": [
        "<a href=\"https://colab.research.google.com/github/Ghilmanzufar/Tugas_Pengatar_Sains_Data_1/blob/main/Pengenalan%20Dasar%20Library%20Pandas.ipynb\" target=\"_parent\"><img src=\"https://colab.research.google.com/assets/colab-badge.svg\" alt=\"Open In Colab\"/></a>"
      ]
    },
    {
      "cell_type": "markdown",
      "metadata": {
        "id": "-IycjpxksDw7"
      },
      "source": [
        "# TUGAS\n",
        "# Pengenalan Dasar Library Pandas\n",
        "Kelompok :\n",
        "\n",
        "1.GHILMAN ZUFAR\n",
        "\n",
        "2.MUHAMMAD DZULFIKAR\n",
        "\n",
        "3.DAVIN APRILLIO SIANTURI\n",
        "\n",
        "4.MUHAMMAD IMAM FIRDAUS\n",
        "\n",
        "5.REZKY AGYA KINANTI\n",
        "\n",
        "\n"
      ]
    },
    {
      "cell_type": "code",
      "execution_count": 12,
      "metadata": {
        "scrolled": true,
        "id": "teOSNgkisDxD"
      },
      "outputs": [],
      "source": [
        "# import libraries\n",
        "import numpy as np\n",
        "import pandas as pd"
      ]
    },
    {
      "cell_type": "code",
      "source": [
        "# Membuat array \"df\" satu dimensi dengan Pandas\n",
        "# nilainya [1,3,4,5]\n",
        "df = pd.Series([1, 3, 4, 5])\n",
        "print(\"Array satu dimensi:\\n\", df)\n",
        "\n",
        "# Membuat dataframe dengan nilai berikut:\n",
        "# 'Nama' : ['Andi', 'Budi', 'Dodo', 'Ema', 'Kari']\n",
        "# 'Nilai' : [80, 20, 90, 40, 55]\n",
        "# 'Kelas' : ['3B', '3A', '3B', '3B', '3A']\n",
        "data = {\n",
        "    'Nama' : ['Andi', 'Budi', 'Dodo', 'Ema', 'Kari'],\n",
        "    'Nilai' : [80, 20, 90, 40, 55],\n",
        "    'Kelas' : ['3B', '3A', '3B', '3B', '3A']\n",
        "}\n",
        "df = pd.DataFrame(data)\n",
        "\n",
        "\n",
        "# Print seluruh baris pada kolom Nama\n",
        "print(\"\\nKolom Nama:\\n\", df['Nama'])\n",
        "\n",
        "# Sortir data berdasarkan Nilai tertinggi ke Nilai terendah\n",
        "df = df.sort_values('Nilai', ascending=False)\n",
        "print(\"\\nDataframe setelah diurutkan:\\n\", df)"
      ],
      "metadata": {
        "id": "_XDnf7dDkG3L",
        "colab": {
          "base_uri": "https://localhost:8080/"
        },
        "outputId": "3b0274b9-2e4a-4bbd-e7ce-08bf6d1239c9"
      },
      "execution_count": 13,
      "outputs": [
        {
          "output_type": "stream",
          "name": "stdout",
          "text": [
            "Array satu dimensi:\n",
            " 0    1\n",
            "1    3\n",
            "2    4\n",
            "3    5\n",
            "dtype: int64\n",
            "\n",
            "Kolom Nama:\n",
            " 0    Andi\n",
            "1    Budi\n",
            "2    Dodo\n",
            "3     Ema\n",
            "4    Kari\n",
            "Name: Nama, dtype: object\n",
            "\n",
            "Dataframe setelah diurutkan:\n",
            "    Nama  Nilai Kelas\n",
            "2  Dodo     90    3B\n",
            "0  Andi     80    3B\n",
            "4  Kari     55    3A\n",
            "3   Ema     40    3B\n",
            "1  Budi     20    3A\n"
          ]
        }
      ]
    },
    {
      "cell_type": "markdown",
      "source": [
        "# Bermain dengan Real Data\n",
        "1. Download data dari link berikut: https://www.kaggle.com/datasets/ruchi798/data-science-job-salaries/\n",
        "\n",
        "2. Save ds_salaries.csv pada Google Drive\n",
        "\n"
      ],
      "metadata": {
        "id": "cXMO0mO3kKTW"
      }
    },
    {
      "cell_type": "code",
      "source": [
        "from google.colab import drive\n",
        "import pandas as pd\n",
        "\n",
        "drive.mount('/content/drive/')\n"
      ],
      "metadata": {
        "colab": {
          "base_uri": "https://localhost:8080/"
        },
        "id": "FgiZQ8QY7S-l",
        "outputId": "f77f79c8-7691-4380-fd44-afc03adadc92"
      },
      "execution_count": 3,
      "outputs": [
        {
          "output_type": "stream",
          "name": "stdout",
          "text": [
            "Mounted at /content/drive/\n"
          ]
        }
      ]
    },
    {
      "cell_type": "code",
      "source": [
        "# print 5 baris teratas\n",
        "# print 5 baris terakhi\n",
        "\n",
        "data = pd.read_csv('/content/drive/MyDrive/TUGAS_SEMESTER3_PSD/ds_salaries.csv')\n",
        "print(data.head(5))\n",
        "print(data.tail(5))"
      ],
      "metadata": {
        "id": "JMYDfC6j7GL9",
        "colab": {
          "base_uri": "https://localhost:8080/"
        },
        "outputId": "ca5bed93-71ad-4f82-c030-fbaf84f1c7b3"
      },
      "execution_count": 4,
      "outputs": [
        {
          "output_type": "stream",
          "name": "stdout",
          "text": [
            "   Unnamed: 0  work_year experience_level employment_type  \\\n",
            "0           0       2020               MI              FT   \n",
            "1           1       2020               SE              FT   \n",
            "2           2       2020               SE              FT   \n",
            "3           3       2020               MI              FT   \n",
            "4           4       2020               SE              FT   \n",
            "\n",
            "                    job_title  salary salary_currency  salary_in_usd  \\\n",
            "0              Data Scientist   70000             EUR          79833   \n",
            "1  Machine Learning Scientist  260000             USD         260000   \n",
            "2           Big Data Engineer   85000             GBP         109024   \n",
            "3        Product Data Analyst   20000             USD          20000   \n",
            "4   Machine Learning Engineer  150000             USD         150000   \n",
            "\n",
            "  employee_residence  remote_ratio company_location company_size  \n",
            "0                 DE             0               DE            L  \n",
            "1                 JP             0               JP            S  \n",
            "2                 GB            50               GB            M  \n",
            "3                 HN             0               HN            S  \n",
            "4                 US            50               US            L  \n",
            "     Unnamed: 0  work_year experience_level employment_type      job_title  \\\n",
            "602         602       2022               SE              FT  Data Engineer   \n",
            "603         603       2022               SE              FT  Data Engineer   \n",
            "604         604       2022               SE              FT   Data Analyst   \n",
            "605         605       2022               SE              FT   Data Analyst   \n",
            "606         606       2022               MI              FT   AI Scientist   \n",
            "\n",
            "     salary salary_currency  salary_in_usd employee_residence  remote_ratio  \\\n",
            "602  154000             USD         154000                 US           100   \n",
            "603  126000             USD         126000                 US           100   \n",
            "604  129000             USD         129000                 US             0   \n",
            "605  150000             USD         150000                 US           100   \n",
            "606  200000             USD         200000                 IN           100   \n",
            "\n",
            "    company_location company_size  \n",
            "602               US            M  \n",
            "603               US            M  \n",
            "604               US            M  \n",
            "605               US            M  \n",
            "606               US            L  \n"
          ]
        }
      ]
    },
    {
      "cell_type": "code",
      "source": [
        "print(data.columns)"
      ],
      "metadata": {
        "id": "Y-6-tv-e7lNx",
        "colab": {
          "base_uri": "https://localhost:8080/"
        },
        "outputId": "eca80caf-504f-4abd-8c0b-0fd82993c305"
      },
      "execution_count": 5,
      "outputs": [
        {
          "output_type": "stream",
          "name": "stdout",
          "text": [
            "Index(['Unnamed: 0', 'work_year', 'experience_level', 'employment_type',\n",
            "       'job_title', 'salary', 'salary_currency', 'salary_in_usd',\n",
            "       'employee_residence', 'remote_ratio', 'company_location',\n",
            "       'company_size'],\n",
            "      dtype='object')\n"
          ]
        }
      ]
    },
    {
      "cell_type": "code",
      "source": [
        "# Tampilkan data baris ke 5-10 pada\n",
        "# Tampilkan data baris ke 5-10 pada kolom job_title dan company_location\n",
        "print(data.loc[5:10, ['job_title', 'company_location']])"
      ],
      "metadata": {
        "id": "AQ8Q9LszfAaJ",
        "colab": {
          "base_uri": "https://localhost:8080/"
        },
        "outputId": "97dbcaec-c7cf-44e1-f16a-32f7a123c637"
      },
      "execution_count": 6,
      "outputs": [
        {
          "output_type": "stream",
          "name": "stdout",
          "text": [
            "                job_title company_location\n",
            "5            Data Analyst               US\n",
            "6     Lead Data Scientist               US\n",
            "7          Data Scientist               HU\n",
            "8   Business Data Analyst               US\n",
            "9      Lead Data Engineer               NZ\n",
            "10         Data Scientist               FR\n"
          ]
        }
      ]
    },
    {
      "cell_type": "code",
      "source": [
        "# Hitung rata-rata salary_in_usd\n",
        "average_salary = data['salary_in_usd'].mean()\n",
        "print(\"Rata-rata salary_in_usd: \", average_salary)"
      ],
      "metadata": {
        "id": "gspwHMi6fWrA",
        "colab": {
          "base_uri": "https://localhost:8080/"
        },
        "outputId": "bcdd45a5-f7f1-418d-f217-fa46288c89f5"
      },
      "execution_count": 7,
      "outputs": [
        {
          "output_type": "stream",
          "name": "stdout",
          "text": [
            "Rata-rata salary_in_usd:  112297.86985172982\n"
          ]
        }
      ]
    },
    {
      "cell_type": "code",
      "source": [
        "# Simpan data baris ke 5-20 ke bentuk .csv dengan nama \"sparse.csv\"\n",
        "data.iloc[5:21].to_csv('sparse.csv')"
      ],
      "metadata": {
        "id": "dYsb7C9yfktj"
      },
      "execution_count": 9,
      "outputs": []
    }
  ],
  "metadata": {
    "anaconda-cloud": {},
    "kernelspec": {
      "display_name": "Python [Root]",
      "language": "python",
      "name": "Python [Root]"
    },
    "language_info": {
      "codemirror_mode": {
        "name": "ipython",
        "version": 3
      },
      "file_extension": ".py",
      "mimetype": "text/x-python",
      "name": "python",
      "nbconvert_exporter": "python",
      "pygments_lexer": "ipython3",
      "version": "3.5.2"
    },
    "colab": {
      "provenance": [],
      "toc_visible": true,
      "include_colab_link": true
    }
  },
  "nbformat": 4,
  "nbformat_minor": 0
}